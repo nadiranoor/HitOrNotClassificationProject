{
  "nbformat": 4,
  "nbformat_minor": 0,
  "metadata": {
    "colab": {
      "name": "Final_Noor_Nadira.ipynb",
      "provenance": [],
      "collapsed_sections": [],
      "toc_visible": true
    },
    "kernelspec": {
      "name": "python3",
      "display_name": "Python 3"
    },
    "language_info": {
      "name": "python"
    }
  },
  "cells": [
    {
      "cell_type": "markdown",
      "metadata": {
        "id": "HLZ91mmvMQyl"
      },
      "source": [
        "## **Machine Learning Final Project DUE: Friday May 7th 11:59pm**\n",
        "\n",
        "**Note: Please read all the instructions carefully before starting the project.**\n",
        "\n",
        "For your final project you will build an ML model to analyze a dataset of your choice. You are welcome to keep working on the data in your EDA project if your data is large enough (at least 1000 rows for simple models and at least 10,000 for more complex models) or you can choose from the datasets/project suggestions below.\n",
        "\n",
        "In this project make sure that you:\n",
        "- Have a large enough dataset\n",
        "- Split your data in training and testing\n",
        "- Explore your data to inform which type of model to choose (no need if you are using your EDA dataset)\n",
        "- Try different models on your training dataset - then select the most promising model\n",
        "- Use cross validation to fine tune the model’s parameters such as alpha in lasso\n",
        "- Simplify your model using regularization, prunnning, drop-out, etc. to avoid overfitting\n",
        "- Communicate your model’s performance and make sure you compare it to a benchmark when appropriate\n",
        "- Plot interesting graphs and results\n",
        "- Write and publish your article to medium\n",
        "- Commit your code to your GitHub\n",
        "\n",
        "Please ensure you handle all the preprocessing before the modeling.\n",
        "\n",
        "Suggestions for project:\n",
        "You can take a look at the resources given below for choosing a dataset for your project. \n",
        "\n",
        "- Traffic sign detection - https://benchmark.ini.rub.de/gtsdb_dataset.html\n",
        "- Cat and dog classifier - https://www.kaggle.com/c/dogs-vs-cats/data\n",
        "- Other datasets from Kaggle - https://www.kaggle.com/data/41592"
      ]
    },
    {
      "cell_type": "markdown",
      "metadata": {
        "id": "mirWm3dBPv90"
      },
      "source": [
        "## **Grading Criteria**\n",
        "\n",
        "- Show clear exploration of the data to justify model choice\n",
        "- Train mutliple models and clearly articulate why you chose your final model\n",
        "- Show your performance on test dataset\n",
        "- Clear and concise write-up with clear well-documented figures\n",
        "- Commit your code to GitHub"
      ]
    },
    {
      "cell_type": "markdown",
      "metadata": {
        "id": "4ZRNqxFcP4wx"
      },
      "source": [
        "## **Submission Details**\n",
        "\n",
        "This is an individual assignment. You may not work in groups. The assignment is due on Friday (05/07/2021)\n",
        "- To submit your assignment, download your notebook and the dataset, zip the dataset and notebook, and submit the zipped file on blackboard.\n",
        "- Make sure the notebook is named in the format - Final_LastName_FirstName. If you are submitting a zipped file, please name the file as well in the same format.\n",
        "- Please include the link to access your blog and your github repo in your notebook.\n",
        "- Also include the link to your notebook, github repo and the blog in the submission on blackboard. Please ensure the TAs have the required access to your notebooks and the github repo.\n",
        "\n",
        "**Note - If the dataset is too large to be zipped and submitted on blackboard, only submit your notebook, add your dataset to your google drive and share a link to the file in your notebook.**"
      ]
    },
    {
      "cell_type": "markdown",
      "metadata": {
        "id": "GWKo20LCMn1O"
      },
      "source": [
        "## Import Packages\n"
      ]
    },
    {
      "cell_type": "code",
      "metadata": {
        "id": "wdRTNqWLMoJe"
      },
      "source": [
        "import pandas as pd\n",
        "import numpy as np\n",
        "import matplotlib.pyplot as plt\n",
        "import seaborn as sns\n",
        "\n",
        "from sklearn.dummy import DummyClassifier\n",
        "from sklearn.model_selection import train_test_split\n",
        "\n",
        "from sklearn.metrics import (\n",
        "    classification_report,\n",
        "    recall_score,\n",
        "    precision_score,\n",
        "    accuracy_score\n",
        ")\n",
        "\n",
        "from sklearn.ensemble import BaggingClassifier, RandomForestClassifier, VotingClassifier\n",
        "from sklearn.tree import DecisionTreeClassifier\n",
        "from sklearn.linear_model import LogisticRegression\n",
        "from sklearn.metrics import plot_confusion_matrix\n",
        "\n",
        "from sklearn import metrics\n",
        "from sklearn import tree\n",
        "\n",
        "from sklearn.ensemble import AdaBoostClassifier\n",
        "from sklearn.ensemble import GradientBoostingClassifier\n",
        "from sklearn.metrics import accuracy_score\n",
        "from sklearn.svm import SVC\n",
        "\n",
        "from sklearn.model_selection import cross_val_score\n",
        "from time import time"
      ],
      "execution_count": 1,
      "outputs": []
    },
    {
      "cell_type": "markdown",
      "metadata": {
        "id": "hO50DTiqMNr-"
      },
      "source": [
        "## Select and Prepare the Data"
      ]
    },
    {
      "cell_type": "code",
      "metadata": {
        "id": "ZzWRBLl6MImY"
      },
      "source": [
        "# read the data \n",
        "data = pd.read_csv(\"2000'sMusic.csv\")\n",
        "\n",
        "# clean the data and drop feature(s) that will not be considered in forming conclusions \n",
        "df = data.drop(['uri'], axis =1)"
      ],
      "execution_count": 2,
      "outputs": []
    },
    {
      "cell_type": "markdown",
      "metadata": {
        "id": "80YXznvTNP8I"
      },
      "source": [
        "## Data Exploration/Preprocessing"
      ]
    },
    {
      "cell_type": "code",
      "metadata": {
        "colab": {
          "base_uri": "https://localhost:8080/",
          "height": 1000
        },
        "id": "gU-gxT85N_4c",
        "outputId": "c5d76a55-3fb8-45cb-fc29-6abd8025b370"
      },
      "source": [
        "# display top 5 rows of data\n",
        "display(df.head())\n",
        "\n",
        "# explore the data\n",
        "print(\"\\n Shape: What is the shape of the data frame?\")\n",
        "display(df.shape)\n",
        "print(\"\\n Columns: What are the columns of the data?\")\n",
        "print(df.columns.values)\n",
        "print(\"\\n Null Values: Are there null values? If so, how can we deal with them?\")\n",
        "display(df.isnull().sum())\n",
        "print(\"\\n Describe: Key statistics regarding the data.\")\n",
        "display(df.describe())\n",
        "print(\"\\n Correlation: How closely correlated is the numerical data in the set?\")\n",
        "display(df.corr())\n",
        "print(\"\\n Info: A glance at what the data types are and other key information. \")\n",
        "display(df.info())\n",
        "\n"
      ],
      "execution_count": 3,
      "outputs": [
        {
          "output_type": "display_data",
          "data": {
            "text/html": [
              "<div>\n",
              "<style scoped>\n",
              "    .dataframe tbody tr th:only-of-type {\n",
              "        vertical-align: middle;\n",
              "    }\n",
              "\n",
              "    .dataframe tbody tr th {\n",
              "        vertical-align: top;\n",
              "    }\n",
              "\n",
              "    .dataframe thead th {\n",
              "        text-align: right;\n",
              "    }\n",
              "</style>\n",
              "<table border=\"1\" class=\"dataframe\">\n",
              "  <thead>\n",
              "    <tr style=\"text-align: right;\">\n",
              "      <th></th>\n",
              "      <th>track</th>\n",
              "      <th>artist</th>\n",
              "      <th>danceability</th>\n",
              "      <th>energy</th>\n",
              "      <th>key</th>\n",
              "      <th>loudness</th>\n",
              "      <th>mode</th>\n",
              "      <th>speechiness</th>\n",
              "      <th>acousticness</th>\n",
              "      <th>instrumentalness</th>\n",
              "      <th>liveness</th>\n",
              "      <th>valence</th>\n",
              "      <th>tempo</th>\n",
              "      <th>duration_ms</th>\n",
              "      <th>time_signature</th>\n",
              "      <th>chorus_hit</th>\n",
              "      <th>sections</th>\n",
              "      <th>target</th>\n",
              "    </tr>\n",
              "  </thead>\n",
              "  <tbody>\n",
              "    <tr>\n",
              "      <th>0</th>\n",
              "      <td>Lucky Man</td>\n",
              "      <td>Montgomery Gentry</td>\n",
              "      <td>0.578</td>\n",
              "      <td>0.471</td>\n",
              "      <td>4</td>\n",
              "      <td>-7.270</td>\n",
              "      <td>1</td>\n",
              "      <td>0.0289</td>\n",
              "      <td>0.368000</td>\n",
              "      <td>0.00000</td>\n",
              "      <td>0.159</td>\n",
              "      <td>0.532</td>\n",
              "      <td>133.061</td>\n",
              "      <td>196707</td>\n",
              "      <td>4</td>\n",
              "      <td>30.88059</td>\n",
              "      <td>13</td>\n",
              "      <td>1</td>\n",
              "    </tr>\n",
              "    <tr>\n",
              "      <th>1</th>\n",
              "      <td>On The Hotline</td>\n",
              "      <td>Pretty Ricky</td>\n",
              "      <td>0.704</td>\n",
              "      <td>0.854</td>\n",
              "      <td>10</td>\n",
              "      <td>-5.477</td>\n",
              "      <td>0</td>\n",
              "      <td>0.1830</td>\n",
              "      <td>0.018500</td>\n",
              "      <td>0.00000</td>\n",
              "      <td>0.148</td>\n",
              "      <td>0.688</td>\n",
              "      <td>92.988</td>\n",
              "      <td>242587</td>\n",
              "      <td>4</td>\n",
              "      <td>41.51106</td>\n",
              "      <td>10</td>\n",
              "      <td>1</td>\n",
              "    </tr>\n",
              "    <tr>\n",
              "      <th>2</th>\n",
              "      <td>Clouds Of Dementia</td>\n",
              "      <td>Candlemass</td>\n",
              "      <td>0.162</td>\n",
              "      <td>0.836</td>\n",
              "      <td>9</td>\n",
              "      <td>-3.009</td>\n",
              "      <td>1</td>\n",
              "      <td>0.0473</td>\n",
              "      <td>0.000111</td>\n",
              "      <td>0.00457</td>\n",
              "      <td>0.174</td>\n",
              "      <td>0.300</td>\n",
              "      <td>86.964</td>\n",
              "      <td>338893</td>\n",
              "      <td>4</td>\n",
              "      <td>65.32887</td>\n",
              "      <td>13</td>\n",
              "      <td>0</td>\n",
              "    </tr>\n",
              "    <tr>\n",
              "      <th>3</th>\n",
              "      <td>Heavy Metal, Raise Hell!</td>\n",
              "      <td>Zwartketterij</td>\n",
              "      <td>0.188</td>\n",
              "      <td>0.994</td>\n",
              "      <td>4</td>\n",
              "      <td>-3.745</td>\n",
              "      <td>1</td>\n",
              "      <td>0.1660</td>\n",
              "      <td>0.000007</td>\n",
              "      <td>0.07840</td>\n",
              "      <td>0.192</td>\n",
              "      <td>0.333</td>\n",
              "      <td>148.440</td>\n",
              "      <td>255667</td>\n",
              "      <td>4</td>\n",
              "      <td>58.59528</td>\n",
              "      <td>9</td>\n",
              "      <td>0</td>\n",
              "    </tr>\n",
              "    <tr>\n",
              "      <th>4</th>\n",
              "      <td>I Got A Feelin'</td>\n",
              "      <td>Billy Currington</td>\n",
              "      <td>0.630</td>\n",
              "      <td>0.764</td>\n",
              "      <td>2</td>\n",
              "      <td>-4.353</td>\n",
              "      <td>1</td>\n",
              "      <td>0.0275</td>\n",
              "      <td>0.363000</td>\n",
              "      <td>0.00000</td>\n",
              "      <td>0.125</td>\n",
              "      <td>0.631</td>\n",
              "      <td>112.098</td>\n",
              "      <td>193760</td>\n",
              "      <td>4</td>\n",
              "      <td>22.62384</td>\n",
              "      <td>10</td>\n",
              "      <td>1</td>\n",
              "    </tr>\n",
              "  </tbody>\n",
              "</table>\n",
              "</div>"
            ],
            "text/plain": [
              "                      track             artist  ...  sections  target\n",
              "0                 Lucky Man  Montgomery Gentry  ...        13       1\n",
              "1            On The Hotline       Pretty Ricky  ...        10       1\n",
              "2        Clouds Of Dementia         Candlemass  ...        13       0\n",
              "3  Heavy Metal, Raise Hell!      Zwartketterij  ...         9       0\n",
              "4           I Got A Feelin'   Billy Currington  ...        10       1\n",
              "\n",
              "[5 rows x 18 columns]"
            ]
          },
          "metadata": {
            "tags": []
          }
        },
        {
          "output_type": "stream",
          "text": [
            "\n",
            " Shape: What is the shape of the data frame?\n"
          ],
          "name": "stdout"
        },
        {
          "output_type": "display_data",
          "data": {
            "text/plain": [
              "(5872, 18)"
            ]
          },
          "metadata": {
            "tags": []
          }
        },
        {
          "output_type": "stream",
          "text": [
            "\n",
            " Columns: What are the columns of the data?\n",
            "['track' 'artist' 'danceability' 'energy' 'key' 'loudness' 'mode'\n",
            " 'speechiness' 'acousticness' 'instrumentalness' 'liveness' 'valence'\n",
            " 'tempo' 'duration_ms' 'time_signature' 'chorus_hit' 'sections' 'target']\n",
            "\n",
            " Null Values: Are there null values? If so, how can we deal with them?\n"
          ],
          "name": "stdout"
        },
        {
          "output_type": "display_data",
          "data": {
            "text/plain": [
              "track               0\n",
              "artist              0\n",
              "danceability        0\n",
              "energy              0\n",
              "key                 0\n",
              "loudness            0\n",
              "mode                0\n",
              "speechiness         0\n",
              "acousticness        0\n",
              "instrumentalness    0\n",
              "liveness            0\n",
              "valence             0\n",
              "tempo               0\n",
              "duration_ms         0\n",
              "time_signature      0\n",
              "chorus_hit          0\n",
              "sections            0\n",
              "target              0\n",
              "dtype: int64"
            ]
          },
          "metadata": {
            "tags": []
          }
        },
        {
          "output_type": "stream",
          "text": [
            "\n",
            " Describe: Key statistics regarding the data.\n"
          ],
          "name": "stdout"
        },
        {
          "output_type": "display_data",
          "data": {
            "text/html": [
              "<div>\n",
              "<style scoped>\n",
              "    .dataframe tbody tr th:only-of-type {\n",
              "        vertical-align: middle;\n",
              "    }\n",
              "\n",
              "    .dataframe tbody tr th {\n",
              "        vertical-align: top;\n",
              "    }\n",
              "\n",
              "    .dataframe thead th {\n",
              "        text-align: right;\n",
              "    }\n",
              "</style>\n",
              "<table border=\"1\" class=\"dataframe\">\n",
              "  <thead>\n",
              "    <tr style=\"text-align: right;\">\n",
              "      <th></th>\n",
              "      <th>danceability</th>\n",
              "      <th>energy</th>\n",
              "      <th>key</th>\n",
              "      <th>loudness</th>\n",
              "      <th>mode</th>\n",
              "      <th>speechiness</th>\n",
              "      <th>acousticness</th>\n",
              "      <th>instrumentalness</th>\n",
              "      <th>liveness</th>\n",
              "      <th>valence</th>\n",
              "      <th>tempo</th>\n",
              "      <th>duration_ms</th>\n",
              "      <th>time_signature</th>\n",
              "      <th>chorus_hit</th>\n",
              "      <th>sections</th>\n",
              "      <th>target</th>\n",
              "    </tr>\n",
              "  </thead>\n",
              "  <tbody>\n",
              "    <tr>\n",
              "      <th>count</th>\n",
              "      <td>5872.000000</td>\n",
              "      <td>5872.000000</td>\n",
              "      <td>5872.000000</td>\n",
              "      <td>5872.000000</td>\n",
              "      <td>5872.000000</td>\n",
              "      <td>5872.000000</td>\n",
              "      <td>5872.000000</td>\n",
              "      <td>5872.000000</td>\n",
              "      <td>5872.000000</td>\n",
              "      <td>5872.000000</td>\n",
              "      <td>5872.000000</td>\n",
              "      <td>5.872000e+03</td>\n",
              "      <td>5872.000000</td>\n",
              "      <td>5872.000000</td>\n",
              "      <td>5872.000000</td>\n",
              "      <td>5872.000000</td>\n",
              "    </tr>\n",
              "    <tr>\n",
              "      <th>mean</th>\n",
              "      <td>0.542931</td>\n",
              "      <td>0.694511</td>\n",
              "      <td>5.276396</td>\n",
              "      <td>-7.449258</td>\n",
              "      <td>0.645095</td>\n",
              "      <td>0.092360</td>\n",
              "      <td>0.214374</td>\n",
              "      <td>0.150917</td>\n",
              "      <td>0.196141</td>\n",
              "      <td>0.482262</td>\n",
              "      <td>121.613018</td>\n",
              "      <td>2.581706e+05</td>\n",
              "      <td>3.913999</td>\n",
              "      <td>40.734295</td>\n",
              "      <td>11.056880</td>\n",
              "      <td>0.500000</td>\n",
              "    </tr>\n",
              "    <tr>\n",
              "      <th>std</th>\n",
              "      <td>0.190003</td>\n",
              "      <td>0.237792</td>\n",
              "      <td>3.564153</td>\n",
              "      <td>5.102543</td>\n",
              "      <td>0.478525</td>\n",
              "      <td>0.094997</td>\n",
              "      <td>0.296511</td>\n",
              "      <td>0.301452</td>\n",
              "      <td>0.161965</td>\n",
              "      <td>0.254567</td>\n",
              "      <td>30.179885</td>\n",
              "      <td>1.395341e+05</td>\n",
              "      <td>0.404280</td>\n",
              "      <td>20.245637</td>\n",
              "      <td>5.758186</td>\n",
              "      <td>0.500043</td>\n",
              "    </tr>\n",
              "    <tr>\n",
              "      <th>min</th>\n",
              "      <td>0.058800</td>\n",
              "      <td>0.000348</td>\n",
              "      <td>0.000000</td>\n",
              "      <td>-47.327000</td>\n",
              "      <td>0.000000</td>\n",
              "      <td>0.022400</td>\n",
              "      <td>0.000000</td>\n",
              "      <td>0.000000</td>\n",
              "      <td>0.019300</td>\n",
              "      <td>0.000000</td>\n",
              "      <td>46.755000</td>\n",
              "      <td>1.592000e+04</td>\n",
              "      <td>0.000000</td>\n",
              "      <td>0.000000</td>\n",
              "      <td>1.000000</td>\n",
              "      <td>0.000000</td>\n",
              "    </tr>\n",
              "    <tr>\n",
              "      <th>25%</th>\n",
              "      <td>0.416000</td>\n",
              "      <td>0.567000</td>\n",
              "      <td>2.000000</td>\n",
              "      <td>-8.315000</td>\n",
              "      <td>0.000000</td>\n",
              "      <td>0.036175</td>\n",
              "      <td>0.004552</td>\n",
              "      <td>0.000000</td>\n",
              "      <td>0.093700</td>\n",
              "      <td>0.278000</td>\n",
              "      <td>96.984000</td>\n",
              "      <td>2.068130e+05</td>\n",
              "      <td>4.000000</td>\n",
              "      <td>27.507508</td>\n",
              "      <td>9.000000</td>\n",
              "      <td>0.000000</td>\n",
              "    </tr>\n",
              "    <tr>\n",
              "      <th>50%</th>\n",
              "      <td>0.556000</td>\n",
              "      <td>0.744000</td>\n",
              "      <td>5.000000</td>\n",
              "      <td>-6.041500</td>\n",
              "      <td>1.000000</td>\n",
              "      <td>0.052700</td>\n",
              "      <td>0.060300</td>\n",
              "      <td>0.000022</td>\n",
              "      <td>0.131000</td>\n",
              "      <td>0.486000</td>\n",
              "      <td>119.999000</td>\n",
              "      <td>2.380065e+05</td>\n",
              "      <td>4.000000</td>\n",
              "      <td>36.037160</td>\n",
              "      <td>10.000000</td>\n",
              "      <td>0.500000</td>\n",
              "    </tr>\n",
              "    <tr>\n",
              "      <th>75%</th>\n",
              "      <td>0.681000</td>\n",
              "      <td>0.885000</td>\n",
              "      <td>8.000000</td>\n",
              "      <td>-4.562500</td>\n",
              "      <td>1.000000</td>\n",
              "      <td>0.107000</td>\n",
              "      <td>0.312000</td>\n",
              "      <td>0.047275</td>\n",
              "      <td>0.263000</td>\n",
              "      <td>0.687000</td>\n",
              "      <td>141.495250</td>\n",
              "      <td>2.791600e+05</td>\n",
              "      <td>4.000000</td>\n",
              "      <td>47.889570</td>\n",
              "      <td>12.000000</td>\n",
              "      <td>1.000000</td>\n",
              "    </tr>\n",
              "    <tr>\n",
              "      <th>max</th>\n",
              "      <td>0.986000</td>\n",
              "      <td>0.999000</td>\n",
              "      <td>11.000000</td>\n",
              "      <td>1.137000</td>\n",
              "      <td>1.000000</td>\n",
              "      <td>0.950000</td>\n",
              "      <td>0.996000</td>\n",
              "      <td>0.998000</td>\n",
              "      <td>0.987000</td>\n",
              "      <td>0.982000</td>\n",
              "      <td>213.233000</td>\n",
              "      <td>4.170227e+06</td>\n",
              "      <td>5.000000</td>\n",
              "      <td>262.615400</td>\n",
              "      <td>169.000000</td>\n",
              "      <td>1.000000</td>\n",
              "    </tr>\n",
              "  </tbody>\n",
              "</table>\n",
              "</div>"
            ],
            "text/plain": [
              "       danceability       energy  ...     sections       target\n",
              "count   5872.000000  5872.000000  ...  5872.000000  5872.000000\n",
              "mean       0.542931     0.694511  ...    11.056880     0.500000\n",
              "std        0.190003     0.237792  ...     5.758186     0.500043\n",
              "min        0.058800     0.000348  ...     1.000000     0.000000\n",
              "25%        0.416000     0.567000  ...     9.000000     0.000000\n",
              "50%        0.556000     0.744000  ...    10.000000     0.500000\n",
              "75%        0.681000     0.885000  ...    12.000000     1.000000\n",
              "max        0.986000     0.999000  ...   169.000000     1.000000\n",
              "\n",
              "[8 rows x 16 columns]"
            ]
          },
          "metadata": {
            "tags": []
          }
        },
        {
          "output_type": "stream",
          "text": [
            "\n",
            " Correlation: How closely correlated is the numerical data in the set?\n"
          ],
          "name": "stdout"
        },
        {
          "output_type": "display_data",
          "data": {
            "text/html": [
              "<div>\n",
              "<style scoped>\n",
              "    .dataframe tbody tr th:only-of-type {\n",
              "        vertical-align: middle;\n",
              "    }\n",
              "\n",
              "    .dataframe tbody tr th {\n",
              "        vertical-align: top;\n",
              "    }\n",
              "\n",
              "    .dataframe thead th {\n",
              "        text-align: right;\n",
              "    }\n",
              "</style>\n",
              "<table border=\"1\" class=\"dataframe\">\n",
              "  <thead>\n",
              "    <tr style=\"text-align: right;\">\n",
              "      <th></th>\n",
              "      <th>danceability</th>\n",
              "      <th>energy</th>\n",
              "      <th>key</th>\n",
              "      <th>loudness</th>\n",
              "      <th>mode</th>\n",
              "      <th>speechiness</th>\n",
              "      <th>acousticness</th>\n",
              "      <th>instrumentalness</th>\n",
              "      <th>liveness</th>\n",
              "      <th>valence</th>\n",
              "      <th>tempo</th>\n",
              "      <th>duration_ms</th>\n",
              "      <th>time_signature</th>\n",
              "      <th>chorus_hit</th>\n",
              "      <th>sections</th>\n",
              "      <th>target</th>\n",
              "    </tr>\n",
              "  </thead>\n",
              "  <tbody>\n",
              "    <tr>\n",
              "      <th>danceability</th>\n",
              "      <td>1.000000</td>\n",
              "      <td>0.074201</td>\n",
              "      <td>0.019733</td>\n",
              "      <td>0.292798</td>\n",
              "      <td>-0.037738</td>\n",
              "      <td>0.164758</td>\n",
              "      <td>-0.184268</td>\n",
              "      <td>-0.335961</td>\n",
              "      <td>-0.113007</td>\n",
              "      <td>0.591426</td>\n",
              "      <td>-0.141072</td>\n",
              "      <td>-0.075976</td>\n",
              "      <td>0.183014</td>\n",
              "      <td>-0.083784</td>\n",
              "      <td>-0.053724</td>\n",
              "      <td>0.458550</td>\n",
              "    </tr>\n",
              "    <tr>\n",
              "      <th>energy</th>\n",
              "      <td>0.074201</td>\n",
              "      <td>1.000000</td>\n",
              "      <td>0.011642</td>\n",
              "      <td>0.775731</td>\n",
              "      <td>-0.008436</td>\n",
              "      <td>0.137077</td>\n",
              "      <td>-0.743515</td>\n",
              "      <td>-0.229903</td>\n",
              "      <td>0.206668</td>\n",
              "      <td>0.286406</td>\n",
              "      <td>0.221466</td>\n",
              "      <td>-0.144524</td>\n",
              "      <td>0.164477</td>\n",
              "      <td>-0.016899</td>\n",
              "      <td>-0.167458</td>\n",
              "      <td>0.084521</td>\n",
              "    </tr>\n",
              "    <tr>\n",
              "      <th>key</th>\n",
              "      <td>0.019733</td>\n",
              "      <td>0.011642</td>\n",
              "      <td>1.000000</td>\n",
              "      <td>0.001610</td>\n",
              "      <td>-0.148303</td>\n",
              "      <td>0.028565</td>\n",
              "      <td>-0.012443</td>\n",
              "      <td>0.002935</td>\n",
              "      <td>-0.020165</td>\n",
              "      <td>0.016495</td>\n",
              "      <td>0.004066</td>\n",
              "      <td>0.019962</td>\n",
              "      <td>-0.003832</td>\n",
              "      <td>-0.005687</td>\n",
              "      <td>0.007625</td>\n",
              "      <td>-0.004444</td>\n",
              "    </tr>\n",
              "    <tr>\n",
              "      <th>loudness</th>\n",
              "      <td>0.292798</td>\n",
              "      <td>0.775731</td>\n",
              "      <td>0.001610</td>\n",
              "      <td>1.000000</td>\n",
              "      <td>0.030354</td>\n",
              "      <td>0.096448</td>\n",
              "      <td>-0.684910</td>\n",
              "      <td>-0.441705</td>\n",
              "      <td>0.120931</td>\n",
              "      <td>0.336110</td>\n",
              "      <td>0.162579</td>\n",
              "      <td>-0.164971</td>\n",
              "      <td>0.192721</td>\n",
              "      <td>-0.062935</td>\n",
              "      <td>-0.170696</td>\n",
              "      <td>0.347300</td>\n",
              "    </tr>\n",
              "    <tr>\n",
              "      <th>mode</th>\n",
              "      <td>-0.037738</td>\n",
              "      <td>-0.008436</td>\n",
              "      <td>-0.148303</td>\n",
              "      <td>0.030354</td>\n",
              "      <td>1.000000</td>\n",
              "      <td>-0.062829</td>\n",
              "      <td>0.011798</td>\n",
              "      <td>-0.079606</td>\n",
              "      <td>0.011895</td>\n",
              "      <td>-0.011184</td>\n",
              "      <td>0.022168</td>\n",
              "      <td>-0.034388</td>\n",
              "      <td>0.024453</td>\n",
              "      <td>-0.039702</td>\n",
              "      <td>-0.016842</td>\n",
              "      <td>0.096097</td>\n",
              "    </tr>\n",
              "    <tr>\n",
              "      <th>speechiness</th>\n",
              "      <td>0.164758</td>\n",
              "      <td>0.137077</td>\n",
              "      <td>0.028565</td>\n",
              "      <td>0.096448</td>\n",
              "      <td>-0.062829</td>\n",
              "      <td>1.000000</td>\n",
              "      <td>-0.059198</td>\n",
              "      <td>-0.123527</td>\n",
              "      <td>0.141157</td>\n",
              "      <td>0.147927</td>\n",
              "      <td>-0.017618</td>\n",
              "      <td>0.017786</td>\n",
              "      <td>0.031691</td>\n",
              "      <td>-0.012479</td>\n",
              "      <td>0.023737</td>\n",
              "      <td>0.057114</td>\n",
              "    </tr>\n",
              "    <tr>\n",
              "      <th>acousticness</th>\n",
              "      <td>-0.184268</td>\n",
              "      <td>-0.743515</td>\n",
              "      <td>-0.012443</td>\n",
              "      <td>-0.684910</td>\n",
              "      <td>0.011798</td>\n",
              "      <td>-0.059198</td>\n",
              "      <td>1.000000</td>\n",
              "      <td>0.255473</td>\n",
              "      <td>-0.099947</td>\n",
              "      <td>-0.187287</td>\n",
              "      <td>-0.157567</td>\n",
              "      <td>0.135808</td>\n",
              "      <td>-0.180854</td>\n",
              "      <td>0.015188</td>\n",
              "      <td>0.156490</td>\n",
              "      <td>-0.223842</td>\n",
              "    </tr>\n",
              "    <tr>\n",
              "      <th>instrumentalness</th>\n",
              "      <td>-0.335961</td>\n",
              "      <td>-0.229903</td>\n",
              "      <td>0.002935</td>\n",
              "      <td>-0.441705</td>\n",
              "      <td>-0.079606</td>\n",
              "      <td>-0.123527</td>\n",
              "      <td>0.255473</td>\n",
              "      <td>1.000000</td>\n",
              "      <td>-0.049933</td>\n",
              "      <td>-0.334772</td>\n",
              "      <td>-0.031231</td>\n",
              "      <td>0.166849</td>\n",
              "      <td>-0.104313</td>\n",
              "      <td>0.092206</td>\n",
              "      <td>0.121436</td>\n",
              "      <td>-0.471290</td>\n",
              "    </tr>\n",
              "    <tr>\n",
              "      <th>liveness</th>\n",
              "      <td>-0.113007</td>\n",
              "      <td>0.206668</td>\n",
              "      <td>-0.020165</td>\n",
              "      <td>0.120931</td>\n",
              "      <td>0.011895</td>\n",
              "      <td>0.141157</td>\n",
              "      <td>-0.099947</td>\n",
              "      <td>-0.049933</td>\n",
              "      <td>1.000000</td>\n",
              "      <td>-0.013835</td>\n",
              "      <td>0.041468</td>\n",
              "      <td>-0.022631</td>\n",
              "      <td>0.021770</td>\n",
              "      <td>0.021775</td>\n",
              "      <td>-0.034278</td>\n",
              "      <td>-0.075539</td>\n",
              "    </tr>\n",
              "    <tr>\n",
              "      <th>valence</th>\n",
              "      <td>0.591426</td>\n",
              "      <td>0.286406</td>\n",
              "      <td>0.016495</td>\n",
              "      <td>0.336110</td>\n",
              "      <td>-0.011184</td>\n",
              "      <td>0.147927</td>\n",
              "      <td>-0.187287</td>\n",
              "      <td>-0.334772</td>\n",
              "      <td>-0.013835</td>\n",
              "      <td>1.000000</td>\n",
              "      <td>0.022010</td>\n",
              "      <td>-0.140885</td>\n",
              "      <td>0.155660</td>\n",
              "      <td>-0.078661</td>\n",
              "      <td>-0.096823</td>\n",
              "      <td>0.281006</td>\n",
              "    </tr>\n",
              "    <tr>\n",
              "      <th>tempo</th>\n",
              "      <td>-0.141072</td>\n",
              "      <td>0.221466</td>\n",
              "      <td>0.004066</td>\n",
              "      <td>0.162579</td>\n",
              "      <td>0.022168</td>\n",
              "      <td>-0.017618</td>\n",
              "      <td>-0.157567</td>\n",
              "      <td>-0.031231</td>\n",
              "      <td>0.041468</td>\n",
              "      <td>0.022010</td>\n",
              "      <td>1.000000</td>\n",
              "      <td>-0.025299</td>\n",
              "      <td>0.007844</td>\n",
              "      <td>-0.066540</td>\n",
              "      <td>0.019073</td>\n",
              "      <td>-0.044054</td>\n",
              "    </tr>\n",
              "    <tr>\n",
              "      <th>duration_ms</th>\n",
              "      <td>-0.075976</td>\n",
              "      <td>-0.144524</td>\n",
              "      <td>0.019962</td>\n",
              "      <td>-0.164971</td>\n",
              "      <td>-0.034388</td>\n",
              "      <td>0.017786</td>\n",
              "      <td>0.135808</td>\n",
              "      <td>0.166849</td>\n",
              "      <td>-0.022631</td>\n",
              "      <td>-0.140885</td>\n",
              "      <td>-0.025299</td>\n",
              "      <td>1.000000</td>\n",
              "      <td>-0.024306</td>\n",
              "      <td>0.066755</td>\n",
              "      <td>0.913075</td>\n",
              "      <td>-0.138384</td>\n",
              "    </tr>\n",
              "    <tr>\n",
              "      <th>time_signature</th>\n",
              "      <td>0.183014</td>\n",
              "      <td>0.164477</td>\n",
              "      <td>-0.003832</td>\n",
              "      <td>0.192721</td>\n",
              "      <td>0.024453</td>\n",
              "      <td>0.031691</td>\n",
              "      <td>-0.180854</td>\n",
              "      <td>-0.104313</td>\n",
              "      <td>0.021770</td>\n",
              "      <td>0.155660</td>\n",
              "      <td>0.007844</td>\n",
              "      <td>-0.024306</td>\n",
              "      <td>1.000000</td>\n",
              "      <td>-0.034452</td>\n",
              "      <td>-0.017434</td>\n",
              "      <td>0.138600</td>\n",
              "    </tr>\n",
              "    <tr>\n",
              "      <th>chorus_hit</th>\n",
              "      <td>-0.083784</td>\n",
              "      <td>-0.016899</td>\n",
              "      <td>-0.005687</td>\n",
              "      <td>-0.062935</td>\n",
              "      <td>-0.039702</td>\n",
              "      <td>-0.012479</td>\n",
              "      <td>0.015188</td>\n",
              "      <td>0.092206</td>\n",
              "      <td>0.021775</td>\n",
              "      <td>-0.078661</td>\n",
              "      <td>-0.066540</td>\n",
              "      <td>0.066755</td>\n",
              "      <td>-0.034452</td>\n",
              "      <td>1.000000</td>\n",
              "      <td>-0.094922</td>\n",
              "      <td>-0.093390</td>\n",
              "    </tr>\n",
              "    <tr>\n",
              "      <th>sections</th>\n",
              "      <td>-0.053724</td>\n",
              "      <td>-0.167458</td>\n",
              "      <td>0.007625</td>\n",
              "      <td>-0.170696</td>\n",
              "      <td>-0.016842</td>\n",
              "      <td>0.023737</td>\n",
              "      <td>0.156490</td>\n",
              "      <td>0.121436</td>\n",
              "      <td>-0.034278</td>\n",
              "      <td>-0.096823</td>\n",
              "      <td>0.019073</td>\n",
              "      <td>0.913075</td>\n",
              "      <td>-0.017434</td>\n",
              "      <td>-0.094922</td>\n",
              "      <td>1.000000</td>\n",
              "      <td>-0.100742</td>\n",
              "    </tr>\n",
              "    <tr>\n",
              "      <th>target</th>\n",
              "      <td>0.458550</td>\n",
              "      <td>0.084521</td>\n",
              "      <td>-0.004444</td>\n",
              "      <td>0.347300</td>\n",
              "      <td>0.096097</td>\n",
              "      <td>0.057114</td>\n",
              "      <td>-0.223842</td>\n",
              "      <td>-0.471290</td>\n",
              "      <td>-0.075539</td>\n",
              "      <td>0.281006</td>\n",
              "      <td>-0.044054</td>\n",
              "      <td>-0.138384</td>\n",
              "      <td>0.138600</td>\n",
              "      <td>-0.093390</td>\n",
              "      <td>-0.100742</td>\n",
              "      <td>1.000000</td>\n",
              "    </tr>\n",
              "  </tbody>\n",
              "</table>\n",
              "</div>"
            ],
            "text/plain": [
              "                  danceability    energy  ...  sections    target\n",
              "danceability          1.000000  0.074201  ... -0.053724  0.458550\n",
              "energy                0.074201  1.000000  ... -0.167458  0.084521\n",
              "key                   0.019733  0.011642  ...  0.007625 -0.004444\n",
              "loudness              0.292798  0.775731  ... -0.170696  0.347300\n",
              "mode                 -0.037738 -0.008436  ... -0.016842  0.096097\n",
              "speechiness           0.164758  0.137077  ...  0.023737  0.057114\n",
              "acousticness         -0.184268 -0.743515  ...  0.156490 -0.223842\n",
              "instrumentalness     -0.335961 -0.229903  ...  0.121436 -0.471290\n",
              "liveness             -0.113007  0.206668  ... -0.034278 -0.075539\n",
              "valence               0.591426  0.286406  ... -0.096823  0.281006\n",
              "tempo                -0.141072  0.221466  ...  0.019073 -0.044054\n",
              "duration_ms          -0.075976 -0.144524  ...  0.913075 -0.138384\n",
              "time_signature        0.183014  0.164477  ... -0.017434  0.138600\n",
              "chorus_hit           -0.083784 -0.016899  ... -0.094922 -0.093390\n",
              "sections             -0.053724 -0.167458  ...  1.000000 -0.100742\n",
              "target                0.458550  0.084521  ... -0.100742  1.000000\n",
              "\n",
              "[16 rows x 16 columns]"
            ]
          },
          "metadata": {
            "tags": []
          }
        },
        {
          "output_type": "stream",
          "text": [
            "\n",
            " Info: A glance at what the data types are and other key information. \n",
            "<class 'pandas.core.frame.DataFrame'>\n",
            "RangeIndex: 5872 entries, 0 to 5871\n",
            "Data columns (total 18 columns):\n",
            " #   Column            Non-Null Count  Dtype  \n",
            "---  ------            --------------  -----  \n",
            " 0   track             5872 non-null   object \n",
            " 1   artist            5872 non-null   object \n",
            " 2   danceability      5872 non-null   float64\n",
            " 3   energy            5872 non-null   float64\n",
            " 4   key               5872 non-null   int64  \n",
            " 5   loudness          5872 non-null   float64\n",
            " 6   mode              5872 non-null   int64  \n",
            " 7   speechiness       5872 non-null   float64\n",
            " 8   acousticness      5872 non-null   float64\n",
            " 9   instrumentalness  5872 non-null   float64\n",
            " 10  liveness          5872 non-null   float64\n",
            " 11  valence           5872 non-null   float64\n",
            " 12  tempo             5872 non-null   float64\n",
            " 13  duration_ms       5872 non-null   int64  \n",
            " 14  time_signature    5872 non-null   int64  \n",
            " 15  chorus_hit        5872 non-null   float64\n",
            " 16  sections          5872 non-null   int64  \n",
            " 17  target            5872 non-null   int64  \n",
            "dtypes: float64(10), int64(6), object(2)\n",
            "memory usage: 825.9+ KB\n"
          ],
          "name": "stdout"
        },
        {
          "output_type": "display_data",
          "data": {
            "text/plain": [
              "None"
            ]
          },
          "metadata": {
            "tags": []
          }
        }
      ]
    },
    {
      "cell_type": "code",
      "metadata": {
        "colab": {
          "base_uri": "https://localhost:8080/",
          "height": 334
        },
        "id": "P5gRY9H2SxLz",
        "outputId": "b7d918eb-5b43-48d6-ba07-6dc44b32855b"
      },
      "source": [
        "# get the distribution of the target variable using barplot: `target`\n",
        "sns.barplot(x=[\"Hit\", \"Miss\"],\n",
        "            y=[len(df.loc[df[\"target\"] == 1]),\n",
        "               len(df.loc[df[\"target\"] == 0])], palette=\"Blues\")\n",
        "plt.title(\"Number of Hits vs Misses\")\n",
        "plt.show()\n",
        "\n",
        "# partition data into training and testing sets with test size - 30%\n",
        "X = df.iloc[:,2:-1] # all numerical data, excluding the artist and song name\n",
        "y = df['target']\n",
        "X_train, X_test, y_train, y_test = train_test_split(X,y,test_size=0.3, stratify = y, random_state = 42)\n",
        "\n",
        "# find baseline accuracy                                            \n",
        "dummy_classifier = DummyClassifier(strategy='most_frequent')\n",
        "dummy_classifier.fit(X_train,y_train)\n",
        "baseline_acc = dummy_classifier.score(X_test,y_test)\n",
        "print(\"Baseline Accuracy = \", baseline_acc)\n",
        "\n",
        "# check baseline accuracy, results in the same number of hits and misses\n",
        "print(len(df[df['target']==0]))\n",
        "print(len(df[df['target']==1]))"
      ],
      "execution_count": 4,
      "outputs": [
        {
          "output_type": "display_data",
          "data": {
            "image/png": "[encoded data removed]",
            "text/plain": [
              "<Figure size 432x288 with 1 Axes>"
            ]
          },
          "metadata": {
            "tags": [],
            "needs_background": "light"
          }
        },
        {
          "output_type": "stream",
          "text": [
            "Baseline Accuracy =  0.5\n",
            "2936\n",
            "2936\n"
          ],
          "name": "stdout"
        }
      ]
    },
    {
      "cell_type": "markdown",
      "metadata": {
        "id": "Aa5CxxZDjkZ6"
      },
      "source": [
        "## Modeling"
      ]
    },
    {
      "cell_type": "markdown",
      "metadata": {
        "id": "ZRMpb5tcW6n6"
      },
      "source": [
        "**Logistic Regression** "
      ]
    },
    {
      "cell_type": "code",
      "metadata": {
        "colab": {
          "base_uri": "https://localhost:8080/",
          "height": 527
        },
        "id": "XhpIULpSW6yu",
        "outputId": "84f0740d-00a3-4c28-a1d0-13820f3f83ce"
      },
      "source": [
        "LogReg = LogisticRegression()\n",
        "LogReg.fit(X_train, y_train)\n",
        "pred_lr = LogReg.predict(X_test)\n",
        "acc_lr = accuracy_score(y_test, pred_lr)\n",
        "print('Logistic Regression Accuracy = ', acc_lr)\n",
        "\n",
        "print('Classification Report:\\n')\n",
        "print(classification_report(y_test, pred_lr))\n",
        "\n",
        "cnf_matrix = metrics.confusion_matrix(y_test,pred_lr)\n",
        "print(cnf_matrix)\n",
        "\n",
        "plot_confusion_matrix(LogReg, X_test,y_test)\n",
        "plt.show()"
      ],
      "execution_count": 5,
      "outputs": [
        {
          "output_type": "stream",
          "text": [
            "Logistic Regression Accuracy =  0.5022701475595914\n",
            "Classification Report:\n",
            "\n",
            "              precision    recall  f1-score   support\n",
            "\n",
            "           0       0.50      0.58      0.54       881\n",
            "           1       0.50      0.43      0.46       881\n",
            "\n",
            "    accuracy                           0.50      1762\n",
            "   macro avg       0.50      0.50      0.50      1762\n",
            "weighted avg       0.50      0.50      0.50      1762\n",
            "\n",
            "[[507 374]\n",
            " [503 378]]\n"
          ],
          "name": "stdout"
        },
        {
          "output_type": "display_data",
          "data": {
            "image/png": "[encoded data removed]",
            "text/plain": [
              "<Figure size 432x288 with 2 Axes>"
            ]
          },
          "metadata": {
            "tags": [],
            "needs_background": "light"
          }
        }
      ]
    },
    {
      "cell_type": "markdown",
      "metadata": {
        "id": "CvuuQ-_lm056"
      },
      "source": [
        "**Decision Tree**"
      ]
    },
    {
      "cell_type": "code",
      "metadata": {
        "colab": {
          "base_uri": "https://localhost:8080/",
          "height": 1000
        },
        "id": "itwnuzEJm1FY",
        "outputId": "bf1ce635-3339-42fe-fdd3-9b8f43aa045d"
      },
      "source": [
        "dt = DecisionTreeClassifier(criterion=\"entropy\", max_depth=6, random_state=2020)\n",
        "dt.fit(X_train, y_train)\n",
        "pred_tree = dt.predict(X_test)\n",
        "print('Decision Tree Accuracy =', metrics.accuracy_score(y_test, pred_tree))\n",
        "acc_dt = metrics.accuracy_score(y_test, pred_tree)\n",
        "\n",
        "# display the tree\n",
        "plt.figure(2)\n",
        "fn = X.columns\n",
        "classList = str(dt.classes_.tolist())\n",
        "displayTree = tree.plot_tree(dt, feature_names=fn, class_names=classList, filled=True)\n",
        "plt.show()\n",
        "\n",
        "# look into the most important features\n",
        "print('Feature Importance:', dt.feature_importances_)\n",
        "imp=pd.DataFrame(zip(X_train.columns, dt.feature_importances_))\n",
        "print(imp)\n",
        "\n",
        "# plot confusion matrix\n",
        "metrics.plot_confusion_matrix(dt, X_test, y_test)\n",
        "plt.show()\n",
        "\n",
        "# print confusion matrix\n",
        "cf = metrics.confusion_matrix(y_test, pred_tree)\n",
        "print(cf)\n",
        "\n",
        "print('Classification Report:\\n')\n",
        "print(classification_report(y_test, pred_tree))"
      ],
      "execution_count": 20,
      "outputs": [
        {
          "output_type": "stream",
          "text": [
            "Decision Tree Accuracy = 0.8099290780141843\n"
          ],
          "name": "stdout"
        },
        {
          "output_type": "display_data",
          "data": {
            "image/png": "[encoded data removed]",
            "text/plain": [
              "<Figure size 432x288 with 1 Axes>"
            ]
          },
          "metadata": {
            "tags": [],
            "needs_background": "light"
          }
        },
        {
          "output_type": "stream",
          "text": [
            "Feature Importance: [0.16329684 0.05961288 0.         0.06391799 0.         0.01514564\n",
            " 0.06545791 0.54851907 0.0101278  0.00921486 0.00243357 0.06227345\n",
            " 0.         0.         0.        ]\n",
            "                   0         1\n",
            "0       danceability  0.163297\n",
            "1             energy  0.059613\n",
            "2                key  0.000000\n",
            "3           loudness  0.063918\n",
            "4               mode  0.000000\n",
            "5        speechiness  0.015146\n",
            "6       acousticness  0.065458\n",
            "7   instrumentalness  0.548519\n",
            "8           liveness  0.010128\n",
            "9            valence  0.009215\n",
            "10             tempo  0.002434\n",
            "11       duration_ms  0.062273\n",
            "12    time_signature  0.000000\n",
            "13        chorus_hit  0.000000\n",
            "14          sections  0.000000\n"
          ],
          "name": "stdout"
        },
        {
          "output_type": "display_data",
          "data": {
            "image/png": "[encoded data removed]",
            "text/plain": [
              "<Figure size 432x288 with 2 Axes>"
            ]
          },
          "metadata": {
            "tags": [],
            "needs_background": "light"
          }
        },
        {
          "output_type": "stream",
          "text": [
            "[[262  91]\n",
            " [ 43 309]]\n",
            "Classification Report:\n",
            "\n",
            "              precision    recall  f1-score   support\n",
            "\n",
            "           0       0.86      0.74      0.80       353\n",
            "           1       0.77      0.88      0.82       352\n",
            "\n",
            "    accuracy                           0.81       705\n",
            "   macro avg       0.82      0.81      0.81       705\n",
            "weighted avg       0.82      0.81      0.81       705\n",
            "\n"
          ],
          "name": "stdout"
        }
      ]
    },
    {
      "cell_type": "markdown",
      "metadata": {
        "id": "41T_nuLGkuZd"
      },
      "source": [
        "**Bagging**"
      ]
    },
    {
      "cell_type": "code",
      "metadata": {
        "colab": {
          "base_uri": "https://localhost:8080/"
        },
        "id": "HNQ7v15Vjl0c",
        "outputId": "be77cccf-0cee-4b58-c4bd-efd9a65bc73a"
      },
      "source": [
        "model_bagging = BaggingClassifier(random_state = 42)\n",
        "model_bagging.fit(X_train, y_train)\n",
        "pred_bagging = model_bagging.predict(X_test)\n",
        "acc_bagging = accuracy_score(y_test, pred_bagging)\n",
        "print('Bagging Accuracy = ', acc_bagging)\n",
        "\n",
        "print('Classification Report:\\n')\n",
        "print(classification_report(y_test, pred_bagging))"
      ],
      "execution_count": 7,
      "outputs": [
        {
          "output_type": "stream",
          "text": [
            "Bagging Accuracy =  0.8410896708286039\n",
            "Classification Report:\n",
            "\n",
            "              precision    recall  f1-score   support\n",
            "\n",
            "           0       0.84      0.84      0.84       881\n",
            "           1       0.84      0.85      0.84       881\n",
            "\n",
            "    accuracy                           0.84      1762\n",
            "   macro avg       0.84      0.84      0.84      1762\n",
            "weighted avg       0.84      0.84      0.84      1762\n",
            "\n"
          ],
          "name": "stdout"
        }
      ]
    },
    {
      "cell_type": "markdown",
      "metadata": {
        "id": "G9tdsKK8rHni"
      },
      "source": [
        "**Random Forest**"
      ]
    },
    {
      "cell_type": "code",
      "metadata": {
        "colab": {
          "base_uri": "https://localhost:8080/"
        },
        "id": "dUR7fD8FrHy6",
        "outputId": "4f4307c5-4cdb-40eb-aaa9-e08056d8cf66"
      },
      "source": [
        "model_rf = RandomForestClassifier(n_estimators=100, max_features=7, random_state=42)\n",
        "model_rf.fit(X_train, y_train)\n",
        "pred_rf = model_rf.predict(X_test)\n",
        "acc_rf = accuracy_score(y_test, pred_rf)\n",
        "print('Random Forest Accuracy = ', acc_rf)\n",
        "\n",
        "feature_importances = model_rf.feature_importances_\n",
        "features = X_train.columns\n",
        "dfOfRfImp = pd.DataFrame({'features': features, 'importance': feature_importances}).nlargest(3, 'importance')\n",
        "print(\"\\n\",dfOfRfImp)\n",
        "\n",
        "print('Classification Report:\\n')\n",
        "print(classification_report(y_test, pred_rf))"
      ],
      "execution_count": 8,
      "outputs": [
        {
          "output_type": "stream",
          "text": [
            "Random Forest Accuracy =  0.8615209988649262\n",
            "\n",
            "             features  importance\n",
            "7   instrumentalness    0.283262\n",
            "0       danceability    0.140798\n",
            "11       duration_ms    0.093379\n",
            "Classification Report:\n",
            "\n",
            "              precision    recall  f1-score   support\n",
            "\n",
            "           0       0.89      0.83      0.86       881\n",
            "           1       0.84      0.90      0.87       881\n",
            "\n",
            "    accuracy                           0.86      1762\n",
            "   macro avg       0.86      0.86      0.86      1762\n",
            "weighted avg       0.86      0.86      0.86      1762\n",
            "\n"
          ],
          "name": "stdout"
        }
      ]
    },
    {
      "cell_type": "markdown",
      "metadata": {
        "id": "MygfGM5ZYukU"
      },
      "source": [
        "**Voting**"
      ]
    },
    {
      "cell_type": "code",
      "metadata": {
        "colab": {
          "base_uri": "https://localhost:8080/"
        },
        "id": "v_CcM1l8YvWF",
        "outputId": "6e3998e2-ead1-48d2-fd1a-13101bb5e6aa"
      },
      "source": [
        "# Ensemble of several different types of\n",
        "rfClf = RandomForestClassifier() \n",
        "dtClf = DecisionTreeClassifier()\n",
        "svmClf = SVC(probability=True)\n",
        "logClf = LogisticRegression()\n",
        "\n",
        "# constructing the ensemble classifier by mentioning the individual classifiers.\n",
        "votingClf = VotingClassifier(estimators = [('rf',rfClf), ('dt',dtClf), ('svm',svmClf), ('log', logClf)], voting='soft') \n",
        "\n",
        "# train the ensemble classifier\n",
        "votingClf.fit(X_train, y_train)\n",
        "\n",
        "votingClf_pred = votingClf.predict(X_test)\n",
        "acc_voting = accuracy_score(y_test, votingClf_pred) \n",
        "print('Voting Accuracy = ', acc_voting)\n",
        "\n",
        "print('Classification Report:\\n')\n",
        "print(classification_report(y_test, votingClf_pred))"
      ],
      "execution_count": 9,
      "outputs": [
        {
          "output_type": "stream",
          "text": [
            "Voting Accuracy =  0.79738933030647\n",
            "Classification Report:\n",
            "\n",
            "              precision    recall  f1-score   support\n",
            "\n",
            "           0       0.81      0.78      0.79       881\n",
            "           1       0.79      0.81      0.80       881\n",
            "\n",
            "    accuracy                           0.80      1762\n",
            "   macro avg       0.80      0.80      0.80      1762\n",
            "weighted avg       0.80      0.80      0.80      1762\n",
            "\n"
          ],
          "name": "stdout"
        }
      ]
    },
    {
      "cell_type": "markdown",
      "metadata": {
        "id": "pN63xT2nccGv"
      },
      "source": [
        "**AdaBoost (Boosting)**"
      ]
    },
    {
      "cell_type": "code",
      "metadata": {
        "colab": {
          "base_uri": "https://localhost:8080/"
        },
        "id": "wE-V_3tFccUR",
        "outputId": "4cb3015d-4871-4c2c-ba45-ccfb4c14fd53"
      },
      "source": [
        "ada_boost = AdaBoostClassifier()\n",
        "ada_boost.fit(X_train, y_train)\n",
        "pred_boost = ada_boost.predict(X_test)\n",
        "acc_boost = accuracy_score(y_test, pred_boost)\n",
        "print('AdaBoost Accuracy = ', acc_boost)\n",
        "\n",
        "print('Classification Report:\\n')\n",
        "print(classification_report(y_test, pred_boost))"
      ],
      "execution_count": 10,
      "outputs": [
        {
          "output_type": "stream",
          "text": [
            "AdaBoost Accuracy =  0.843927355278093\n",
            "Classification Report:\n",
            "\n",
            "              precision    recall  f1-score   support\n",
            "\n",
            "           0       0.87      0.80      0.84       881\n",
            "           1       0.82      0.88      0.85       881\n",
            "\n",
            "    accuracy                           0.84      1762\n",
            "   macro avg       0.85      0.84      0.84      1762\n",
            "weighted avg       0.85      0.84      0.84      1762\n",
            "\n"
          ],
          "name": "stdout"
        }
      ]
    },
    {
      "cell_type": "markdown",
      "metadata": {
        "id": "97CsutnqdEcc"
      },
      "source": [
        "**Gradient Boosted Trees (Boosting)**"
      ]
    },
    {
      "cell_type": "code",
      "metadata": {
        "colab": {
          "base_uri": "https://localhost:8080/"
        },
        "id": "s2NJxu19dEoK",
        "outputId": "8e0fbb6b-8439-4066-cc7f-22291a1aac2b"
      },
      "source": [
        "gbc = GradientBoostingClassifier().fit(X_train, y_train)\n",
        "pred_gbc = gbc.predict(X_test)\n",
        "acc_gbc = accuracy_score(y_test, pred_gbc)\n",
        "print('Gradient Boost Accuracy = ', acc_gbc)\n",
        "\n",
        "print('Classification Report:\\n')\n",
        "print(classification_report(y_test, pred_gbc))"
      ],
      "execution_count": 11,
      "outputs": [
        {
          "output_type": "stream",
          "text": [
            "Gradient Boost Accuracy =  0.8677639046538025\n",
            "Classification Report:\n",
            "\n",
            "              precision    recall  f1-score   support\n",
            "\n",
            "           0       0.90      0.83      0.86       881\n",
            "           1       0.84      0.91      0.87       881\n",
            "\n",
            "    accuracy                           0.87      1762\n",
            "   macro avg       0.87      0.87      0.87      1762\n",
            "weighted avg       0.87      0.87      0.87      1762\n",
            "\n"
          ],
          "name": "stdout"
        }
      ]
    },
    {
      "cell_type": "markdown",
      "metadata": {
        "id": "cLyzqJ9qd_A9"
      },
      "source": [
        "## Find the Most Accurate Model "
      ]
    },
    {
      "cell_type": "code",
      "metadata": {
        "colab": {
          "base_uri": "https://localhost:8080/"
        },
        "id": "5aHkwBRPeDS8",
        "outputId": "8ed6c47d-e8de-42e7-eabd-778717314f4c"
      },
      "source": [
        "mostAccurateDict = {'LogisticRegression': acc_lr, 'Decision Tree': metrics.accuracy_score(y_test, pred_tree), 'Bagging': acc_bagging, 'Random Forest': acc_rf, 'Voting': acc_voting,'AdaBoost': acc_boost, 'GBC': acc_gbc}\n",
        "mostAccurateModel = max(mostAccurateDict, key = mostAccurateDict.get)\n",
        "print(\"Most Accurate Model: \", mostAccurateModel)"
      ],
      "execution_count": 12,
      "outputs": [
        {
          "output_type": "stream",
          "text": [
            "Most Accurate Model:  GBC\n"
          ],
          "name": "stdout"
        }
      ]
    },
    {
      "cell_type": "markdown",
      "metadata": {
        "id": "HoUHh-yQmDJs"
      },
      "source": [
        "## Cross Validation"
      ]
    },
    {
      "cell_type": "code",
      "metadata": {
        "colab": {
          "base_uri": "https://localhost:8080/"
        },
        "id": "Sno52yyGA2r3",
        "outputId": "0d18e8c5-6edd-4454-fe87-cdeb9ce6b32e"
      },
      "source": [
        "# Use cross validation to fine tune the model’s parameters\n",
        "# Partition the data one more time to get a different sample (to get a validation set)\n",
        "\n",
        "X_value, X_test, y_value, y_test = train_test_split(X_test, y_test, test_size=0.4, stratify = y_test, random_state = 42)\n",
        "\n",
        "\n",
        "model_gbc = GradientBoostingClassifier().fit(X_train, y_train)\n",
        "pred_gbc = model_gbc.predict(X_value)\n",
        "score =  cross_val_score(model_gbc, X_value, y_value, cv=10, scoring='accuracy')\n",
        "mean = score.mean()\n",
        "print(\"Cross Validation Score: \", mean)\n",
        "\n",
        "\n",
        "# Fine tune the learning rate\n",
        "learningRate = []\n",
        "for i in [.1,.2,.3,.4,.5,.6,.7,.8,.9]:\n",
        "    gbc1 = GradientBoostingClassifier(learning_rate=i)\n",
        "    gbc1 = gbc1.fit(X_train,y_train)\n",
        "    crossvalscore1 = cross_val_score(estimator=gbc1, X=X_value, y=y_value, cv=10)\n",
        "    learningRate.append((i,crossvalscore1.mean()))\n",
        "\n",
        "print(learningRate)\n",
        "\n",
        "# Best learning rate is .1\n",
        "model_gbc = GradientBoostingClassifier(learning_rate=.1).fit(X_train, y_train)\n",
        "pred_gbc = model_gbc.predict(X_value)\n",
        "score =  cross_val_score(model_gbc, X_value, y_value, cv=10, scoring='accuracy')\n",
        "mean = score.mean()\n",
        "print(\"Cross Validation Score After Fine Tuning the Model's Learning Rate: \", mean)"
      ],
      "execution_count": 13,
      "outputs": [
        {
          "output_type": "stream",
          "text": [
            "Cross Validation Score:  0.8514734950584009\n",
            "[(0.1, 0.8514734950584009), (0.2, 0.8495956873315362), (0.3, 0.8496226415094339), (0.4, 0.8448876909254267), (0.5, 0.8439353099730459), (0.6, 0.8353908355795149), (0.7, 0.8353099730458222), (0.8, 0.8410512129380054), (0.9, 0.8268643306379155)]\n",
            "Cross Validation Score After Fine Tuning the Model's Learning Rate:  0.8514824797843668\n"
          ],
          "name": "stdout"
        }
      ]
    },
    {
      "cell_type": "markdown",
      "metadata": {
        "id": "00EvOh33r-fn"
      },
      "source": [
        "## Simplify Model"
      ]
    },
    {
      "cell_type": "code",
      "metadata": {
        "colab": {
          "base_uri": "https://localhost:8080/"
        },
        "id": "hC3qCCSgucR3",
        "outputId": "cf4b1e51-15ac-4c64-e3f3-12577a90e042"
      },
      "source": [
        "# Simplify your model to avoid overfitting\n",
        "\n",
        "# increase min_samples_split\n",
        "# increase min_samples_leaf\n",
        "\n",
        "samplesSplit = [] #default 2\n",
        "for i in range(2,11):\n",
        "    gbc2 = GradientBoostingClassifier(min_samples_split=i)\n",
        "    gbc2 = gbc1.fit(X_train,y_train)\n",
        "    crossvalscore2 = cross_val_score(estimator=gbc2, X=X_value, y=y_value, cv=10)\n",
        "    samplesSplit.append((i,crossvalscore2.mean()))\n",
        "\n",
        "print(samplesSplit)\n",
        "\n",
        "# Best min_samples_split is 4\n",
        "\n",
        "\n",
        "samplesLeaf = [] #default 1\n",
        "for i in range(1,11):\n",
        "    gbc3 = GradientBoostingClassifier(min_samples_split=i)\n",
        "    gbc3 = gbc1.fit(X_train,y_train)\n",
        "    crossvalscore3 = cross_val_score(estimator=gbc3, X=X_value, y=y_value, cv=10)\n",
        "    samplesLeaf.append((i,crossvalscore3.mean()))\n",
        "\n",
        "print(samplesLeaf)\n",
        "\n",
        "# Best min_samples_leaf is 8\n"
      ],
      "execution_count": 14,
      "outputs": [
        {
          "output_type": "stream",
          "text": [
            "[(2, 0.8259209344115005), (3, 0.8287511230907457), (4, 0.8268643306379155), (5, 0.8268643306379155), (6, 0.8259209344115005), (7, 0.8249775381850855), (8, 0.8278077268643307), (9, 0.8268643306379155), (10, 0.8278077268643307)]\n",
            "[(1, 0.8278077268643307), (2, 0.8259209344115005), (3, 0.8240341419586704), (4, 0.8259209344115005), (5, 0.8249775381850852), (6, 0.8259209344115005), (7, 0.8268643306379155), (8, 0.8259209344115005), (9, 0.8249775381850855), (10, 0.8259209344115005)]\n"
          ],
          "name": "stdout"
        }
      ]
    },
    {
      "cell_type": "markdown",
      "metadata": {
        "id": "DBtE3AhnM9IR"
      },
      "source": [
        "**OPTIMAL MODEL WITH BEST ACCURACY**"
      ]
    },
    {
      "cell_type": "code",
      "metadata": {
        "colab": {
          "base_uri": "https://localhost:8080/"
        },
        "id": "BKihFDBzM8hN",
        "outputId": "26d7c0b6-db53-4764-e5ed-9befccda3442"
      },
      "source": [
        "time1 = time()\n",
        "gbc = GradientBoostingClassifier(learning_rate=.1,min_samples_leaf=8, min_samples_split=4).fit(X_train, y_train)\n",
        "pred_gbc = gbc.predict(X_test)\n",
        "acc_gbc = accuracy_score(y_test, pred_gbc)\n",
        "print('Gradient Boost Accuracy = ', acc_gbc)\n",
        "\n",
        "print('Classification Report:\\n')\n",
        "print(classification_report(y_test, pred_gbc))\n",
        "print(\"Testing Time (in minutes) = %f\" % ((time() - time1) / 60))\n",
        "\n",
        "feature_importances = gbc.feature_importances_\n",
        "features = X_train.columns\n",
        "dfOfGBCImp = pd.DataFrame({'features': features, 'importance': feature_importances}).nlargest(3, 'importance')\n",
        "print(\"\\n\",dfOfGBCImp)\n"
      ],
      "execution_count": 17,
      "outputs": [
        {
          "output_type": "stream",
          "text": [
            "Gradient Boost Accuracy =  0.8638297872340426\n",
            "Classification Report:\n",
            "\n",
            "              precision    recall  f1-score   support\n",
            "\n",
            "           0       0.89      0.83      0.86       353\n",
            "           1       0.84      0.90      0.87       352\n",
            "\n",
            "    accuracy                           0.86       705\n",
            "   macro avg       0.87      0.86      0.86       705\n",
            "weighted avg       0.87      0.86      0.86       705\n",
            "\n",
            "Testing Time (in minutes) = 0.027808\n",
            "\n",
            "             features  importance\n",
            "7   instrumentalness    0.510793\n",
            "0       danceability    0.137012\n",
            "11       duration_ms    0.105944\n"
          ],
          "name": "stdout"
        }
      ]
    },
    {
      "cell_type": "markdown",
      "metadata": {
        "id": "kKlMlCsFRlIJ"
      },
      "source": [
        "## Interesting Findings "
      ]
    },
    {
      "cell_type": "code",
      "metadata": {
        "colab": {
          "base_uri": "https://localhost:8080/"
        },
        "id": "_K5-4v_eRgov",
        "outputId": "1efc3b15-c021-409d-a337-c2d4d6d51739"
      },
      "source": [
        "# On average, what would a hit song require? \n",
        "df[df.target == 1].mean()"
      ],
      "execution_count": 16,
      "outputs": [
        {
          "output_type": "execute_result",
          "data": {
            "text/plain": [
              "danceability             0.630049\n",
              "energy                   0.714608\n",
              "key                      5.260559\n",
              "loudness                -5.677296\n",
              "mode                     0.691076\n",
              "speechiness              0.097785\n",
              "acousticness             0.148008\n",
              "instrumentalness         0.008858\n",
              "liveness                 0.183907\n",
              "valence                  0.553791\n",
              "tempo                  120.283592\n",
              "duration_ms         238862.943801\n",
              "time_signature           3.970027\n",
              "chorus_hit              38.843723\n",
              "sections                10.476839\n",
              "target                   1.000000\n",
              "dtype: float64"
            ]
          },
          "metadata": {
            "tags": []
          },
          "execution_count": 16
        }
      ]
    },
    {
      "cell_type": "code",
      "metadata": {
        "colab": {
          "base_uri": "https://localhost:8080/",
          "height": 294
        },
        "id": "c3dt2D7gRyxj",
        "outputId": "690d99be-7020-4d23-df72-5d58dcfe8fb6"
      },
      "source": [
        "# Visualize and compare the accuracy of the Gradient Boosting Classifer to other ensembles we tested\n",
        "models = [\"LogReg\", \"DT\", \"Bagging\", \"RF\",\"Voting\", \"Ada\",\"GBC\"]\n",
        "accuracies = [acc_lr, acc_dt,acc_bagging,  acc_rf,acc_voting,acc_boost, acc_gbc]\n",
        "\n",
        "plt.plot(models, accuracies, marker ='o', linestyle='-', color = 'r', label='Accuracies')\n",
        "\n",
        "# Add labels\n",
        "plt.xlabel('Models')\n",
        "plt.ylabel('Accuracy')\n",
        "\n",
        "# Add title\n",
        "plt.title('Model vs Accuracy')\n",
        "\n",
        "# Control axes range\n",
        "\n",
        "# legend and grid\n",
        "plt.legend()\n",
        "plt.grid(True, color='y', linestyle=':')\n",
        "\n",
        "plt.show()"
      ],
      "execution_count": 21,
      "outputs": [
        {
          "output_type": "display_data",
          "data": {
            "image/png": "[encoded data removed]",
            "text/plain": [
              "<Figure size 432x288 with 1 Axes>"
            ]
          },
          "metadata": {
            "tags": [],
            "needs_background": "light"
          }
        }
      ]
    }
  ]
}